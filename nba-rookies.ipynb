{
 "cells": [
  {
   "cell_type": "markdown",
   "id": "77843494-868f-4f05-ba28-ff04b0f48d3b",
   "metadata": {},
   "source": [
    "# K-Nearest Neighbor Classification for NBA Rookies\n",
    "\n",
    "In this notebook, we will analyze a dataset containing game statistics from NBA rookies' first season with the aim of predicting whether they will last in the NBA for at least 5 years or not. This binary classification problem will be approached using a K-Nearest Neighbors (KNN) algorithm implemented from scratch. The target variable is encoded as 1 (stayed in the NBA for 5+ years) or 0 (did not stay for 5+ years).\n",
    "\n",
    "We will proceed through the following structured steps:\n",
    "\n",
    "* Import Necessary Libraries\n",
    "* Load and Prepare the Dataset\n",
    "* KNN Implementation\n",
    "* Apply KNN to Classification Problem\n",
    "* Tune the Hyperparameter k\n",
    "* Evaluate Final Model Performance"
   ]
  },
  {
   "cell_type": "markdown",
   "id": "169fe774-1929-4435-81d3-0e696231fb91",
   "metadata": {},
   "source": [
    "## 1. Import necessary libraries"
   ]
  },
  {
   "cell_type": "code",
   "execution_count": null,
   "id": "47aba5ca-73a4-4c5e-a3f1-22f0d23336f0",
   "metadata": {},
   "outputs": [],
   "source": [
    "%matplotlib inline\n",
    "%config InlineBackend.figure_format = 'svg'\n",
    "import matplotlib.pyplot as plt\n",
    "plt.style.use('ggplot')\n",
    "\n",
    "import numpy as np\n",
    "import pandas as pd\n",
    "\n",
    "from sklearn.model_selection import train_test_split\n",
    "from sklearn.preprocessing import StandardScaler\n",
    "\n",
    "np.random.seed(42)"
   ]
  },
  {
   "cell_type": "markdown",
   "id": "6984ce83-9c75-49c7-9b10-9a76b220ca6a",
   "metadata": {},
   "source": [
    "## 2. Load and prepare the dataset"
   ]
  },
  {
   "cell_type": "markdown",
   "id": "83f3c38d-12e7-4cbc-95bd-345a2a5e5363",
   "metadata": {},
   "source": [
    "### Display dataset information"
   ]
  },
  {
   "cell_type": "code",
   "execution_count": null,
   "id": "b132d0c9-f0df-4530-905a-74bedf28621f",
   "metadata": {},
   "outputs": [],
   "source": [
    "nba_data = pd.read_csv('nba-rookies.csv')\n",
    "\n",
    "print(\"Dataset Overview:\")\n",
    "print(nba_data.head())\n",
    "print(\"\\nInformation about the Dataset:\")\n",
    "nba_data.info()"
   ]
  },
  {
   "cell_type": "markdown",
   "id": "f7a4e52a-1e51-4355-bbf3-3f383e27c03c",
   "metadata": {},
   "source": [
    "### Remove duplicates, display target class distribution and features"
   ]
  },
  {
   "cell_type": "code",
   "execution_count": null,
   "id": "05b09b0c-09c0-4b14-9560-1d0b51dacdb4",
   "metadata": {},
   "outputs": [],
   "source": [
    "nba_data_clean = nba_data.drop_duplicates(subset=['name'], keep='first')\n",
    "print(f\"\\nDataset size before removing duplicates: {nba_data.shape}\")\n",
    "print(f\"Dataset size after removing duplicates: {nba_data_clean.shape}\")\n",
    "\n",
    "print(\"\\nTarget class distribution:\")\n",
    "print(nba_data_clean['target_5yrs'].value_counts())\n",
    "print()\n",
    "print((nba_data_clean['target_5yrs'].value_counts(normalize=True) * 100).round(2))\n",
    "\n",
    "X = nba_data_clean.drop(['name', 'Unnamed: 0', 'target_5yrs'], axis=1)\n",
    "y = nba_data_clean['target_5yrs']\n",
    "print(\"\\nAll features:\")\n",
    "print(X.columns.tolist())"
   ]
  },
  {
   "cell_type": "markdown",
   "id": "99ffae25-a0e0-47ca-9170-c7185c524b61",
   "metadata": {},
   "source": [
    "### Standardize features and split into training and test sets"
   ]
  },
  {
   "cell_type": "code",
   "execution_count": null,
   "id": "f1f50a7c-e13b-4bf3-9948-522c334efba4",
   "metadata": {},
   "outputs": [],
   "source": [
    "scaler = StandardScaler()\n",
    "X_scaled = scaler.fit_transform(X)\n",
    "\n",
    "X_train, X_test, y_train, y_test = train_test_split(\n",
    "    X_scaled, y, test_size=0.2, random_state=42, stratify=y\n",
    ")\n",
    "\n",
    "print(\"\\nSplit into training (80%) and test sets (20%)\")\n",
    "print(f\"Training set: {X_train.shape[0]} samples\")\n",
    "print(f\"Test set: {X_test.shape[0]} samples\")"
   ]
  },
  {
   "cell_type": "markdown",
   "id": "42bd1c23-139b-4dee-a3f1-34e7442c08d4",
   "metadata": {},
   "source": [
    "## 3. KNN Implementation\n"
   ]
  },
  {
   "cell_type": "code",
   "execution_count": null,
   "id": "77201db3-c674-4553-8c57-135683fc568e",
   "metadata": {},
   "outputs": [],
   "source": [
    "class KNN:\n",
    "    def __init__(self, X_train, y_train, k=5):\n",
    "        self.X_train = X_train\n",
    "        self.y_train = y_train\n",
    "        self.classes = np.unique(y_train)\n",
    "        self.k = k\n",
    "    \n",
    "    def predict(self, X_test):\n",
    "        y_pred = []\n",
    "        \n",
    "        for x in X_test:\n",
    "            distances = np.linalg.norm(self.X_train - x, axis=1)\n",
    "            k_nearest_indices = distances.argsort()[:self.k]\n",
    "            k_nearest_labels = self.y_train.iloc[k_nearest_indices]\n",
    "            \n",
    "            unique_classes, counts = np.unique(k_nearest_labels, return_counts=True)\n",
    "            most_common_class = unique_classes[np.argmax(counts)]\n",
    "            y_pred.append(most_common_class)\n",
    "            \n",
    "        return np.array(y_pred)\n",
    "        "
   ]
  },
  {
   "cell_type": "markdown",
   "id": "05484d43-2411-47e3-a9e2-301cfac6ec59",
   "metadata": {},
   "source": [
    "## 4. Apply KNN to Classification Problem with default k=5"
   ]
  },
  {
   "cell_type": "code",
   "execution_count": null,
   "id": "621bd203-bd15-4ccd-85a9-43d386a3b4ab",
   "metadata": {},
   "outputs": [],
   "source": [
    "knn = KNN(X_train, y_train, k=5)\n",
    "\n",
    "y_pred = knn.predict(X_test)\n",
    "\n",
    "accuracy = np.mean(y_test == y_pred)\n",
    "print(f\"\\nTest accuracy with k=5: {accuracy:.4f}\")"
   ]
  },
  {
   "cell_type": "markdown",
   "id": "dc67ceb6-e0de-4d25-86c3-f6907cf99287",
   "metadata": {},
   "source": [
    "## 5. Tune the Hyperparameter k to find the optimal value for k"
   ]
  },
  {
   "cell_type": "code",
   "execution_count": null,
   "id": "611f039f-547a-488a-b0a4-b45e7367d725",
   "metadata": {},
   "outputs": [],
   "source": [
    "k_values = range(1, 50, 2)\n",
    "\n",
    "k_accuracies = []\n",
    "\n",
    "for k in k_values:\n",
    "    knn = KNN(X_train, y_train, k=k)\n",
    "    y_pred = knn.predict(X_test)\n",
    "    accuracy = np.mean(y_test == y_pred)\n",
    "    k_accuracies.append(accuracy)\n",
    "\n",
    "optimal_k = k_values[np.argmax(k_accuracies)]\n",
    "\n",
    "plt.figure(figsize=(10, 6))\n",
    "plt.plot(k_values, k_accuracies, 'o-', linewidth=2, markersize=8)\n",
    "plt.axvline(x=optimal_k, color='r', linestyle='--', label=f'Optimal k={optimal_k}')\n",
    "plt.xlabel('k Value (Number of Neighbors)', fontsize=12)\n",
    "plt.ylabel('Accuracy', fontsize=12)\n",
    "plt.title('Model Accuracy vs. k Value', fontsize=14)\n",
    "plt.grid(True, alpha=0.3)\n",
    "plt.legend()\n",
    "plt.show()"
   ]
  },
  {
   "cell_type": "markdown",
   "id": "3b1e1b5a-ab9a-42b7-bacb-39b28d3804c6",
   "metadata": {},
   "source": [
    "## 6. Evaluate Final Model Performance with optimal k"
   ]
  },
  {
   "cell_type": "code",
   "execution_count": null,
   "id": "4165e55a-bd02-4454-865e-422db555f01a",
   "metadata": {},
   "outputs": [],
   "source": [
    "final_knn = KNN(X_train, y_train, k=optimal_k)\n",
    "\n",
    "final_y_pred = final_knn.predict(X_test)\n",
    "\n",
    "final_accuracy = np.mean(y_test == final_y_pred)\n",
    "print(f\"\\nFinal model accuracy with k={optimal_k}: {final_accuracy:.4f}\")"
   ]
  },
  {
   "cell_type": "code",
   "execution_count": null,
   "id": "3b083321-af58-4d8a-b716-0c19615e374f",
   "metadata": {},
   "outputs": [],
   "source": []
  }
 ],
 "metadata": {
  "kernelspec": {
   "display_name": "Python 3 (ipykernel)",
   "language": "python",
   "name": "python3"
  },
  "language_info": {
   "codemirror_mode": {
    "name": "ipython",
    "version": 3
   },
   "file_extension": ".py",
   "mimetype": "text/x-python",
   "name": "python",
   "nbconvert_exporter": "python",
   "pygments_lexer": "ipython3",
   "version": "3.12.9"
  }
 },
 "nbformat": 4,
 "nbformat_minor": 5
}
